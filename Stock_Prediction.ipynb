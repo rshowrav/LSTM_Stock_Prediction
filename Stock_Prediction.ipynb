{
  "nbformat": 4,
  "nbformat_minor": 0,
  "metadata": {
    "colab": {
      "name": "Stock Prediction.ipynb",
      "provenance": []
    },
    "kernelspec": {
      "name": "python3",
      "display_name": "Python 3"
    },
    "language_info": {
      "name": "python"
    }
  },
  "cells": [
    {
      "cell_type": "code",
      "metadata": {
        "id": "qR20xY57SWdG"
      },
      "source": [
        "# Installing necessary libraries\n",
        "\n",
        "import math\n",
        "import numpy as np\n",
        "import pandas_datareader as web\n",
        "import pandas as pd\n",
        "from sklearn.preprocessing import MinMaxScaler\n",
        "from keras.models import Sequential\n",
        "from keras.layers import Dense, LSTM\n",
        "import matplotlib.pyplot as plt\n",
        "plt.style.use('fivethirtyeight')"
      ],
      "execution_count": null,
      "outputs": []
    },
    {
      "cell_type": "code",
      "metadata": {
        "colab": {
          "base_uri": "https://localhost:8080/",
          "height": 431
        },
        "id": "CtHYj7Z5XyRy",
        "outputId": "830394e2-8527-47bc-8560-59ba633185fa"
      },
      "source": [
        "# Get stock quotes \n",
        "\n",
        "df = web.DataReader('CHK', data_source='yahoo', start='2021-02-01', end='2021-05-08')\n",
        "\n",
        "# Show dataframe \n",
        "df"
      ],
      "execution_count": null,
      "outputs": [
        {
          "output_type": "execute_result",
          "data": {
            "text/html": [
              "<div>\n",
              "<style scoped>\n",
              "    .dataframe tbody tr th:only-of-type {\n",
              "        vertical-align: middle;\n",
              "    }\n",
              "\n",
              "    .dataframe tbody tr th {\n",
              "        vertical-align: top;\n",
              "    }\n",
              "\n",
              "    .dataframe thead th {\n",
              "        text-align: right;\n",
              "    }\n",
              "</style>\n",
              "<table border=\"1\" class=\"dataframe\">\n",
              "  <thead>\n",
              "    <tr style=\"text-align: right;\">\n",
              "      <th></th>\n",
              "      <th>High</th>\n",
              "      <th>Low</th>\n",
              "      <th>Open</th>\n",
              "      <th>Close</th>\n",
              "      <th>Volume</th>\n",
              "      <th>Adj Close</th>\n",
              "    </tr>\n",
              "    <tr>\n",
              "      <th>Date</th>\n",
              "      <th></th>\n",
              "      <th></th>\n",
              "      <th></th>\n",
              "      <th></th>\n",
              "      <th></th>\n",
              "      <th></th>\n",
              "    </tr>\n",
              "  </thead>\n",
              "  <tbody>\n",
              "    <tr>\n",
              "      <th>2021-02-10</th>\n",
              "      <td>50.000000</td>\n",
              "      <td>43.000000</td>\n",
              "      <td>43.000000</td>\n",
              "      <td>44.990002</td>\n",
              "      <td>1836900</td>\n",
              "      <td>44.990002</td>\n",
              "    </tr>\n",
              "    <tr>\n",
              "      <th>2021-02-11</th>\n",
              "      <td>45.470001</td>\n",
              "      <td>42.750000</td>\n",
              "      <td>45.470001</td>\n",
              "      <td>42.799999</td>\n",
              "      <td>1652100</td>\n",
              "      <td>42.799999</td>\n",
              "    </tr>\n",
              "    <tr>\n",
              "      <th>2021-02-12</th>\n",
              "      <td>43.500000</td>\n",
              "      <td>41.549999</td>\n",
              "      <td>43.009998</td>\n",
              "      <td>42.509998</td>\n",
              "      <td>2088200</td>\n",
              "      <td>42.509998</td>\n",
              "    </tr>\n",
              "    <tr>\n",
              "      <th>2021-02-16</th>\n",
              "      <td>45.540001</td>\n",
              "      <td>43.009998</td>\n",
              "      <td>44.200001</td>\n",
              "      <td>43.549999</td>\n",
              "      <td>1369100</td>\n",
              "      <td>43.549999</td>\n",
              "    </tr>\n",
              "    <tr>\n",
              "      <th>2021-02-17</th>\n",
              "      <td>44.599998</td>\n",
              "      <td>43.500000</td>\n",
              "      <td>44.029999</td>\n",
              "      <td>44.259998</td>\n",
              "      <td>1910200</td>\n",
              "      <td>44.259998</td>\n",
              "    </tr>\n",
              "    <tr>\n",
              "      <th>...</th>\n",
              "      <td>...</td>\n",
              "      <td>...</td>\n",
              "      <td>...</td>\n",
              "      <td>...</td>\n",
              "      <td>...</td>\n",
              "      <td>...</td>\n",
              "    </tr>\n",
              "    <tr>\n",
              "      <th>2021-05-03</th>\n",
              "      <td>46.619999</td>\n",
              "      <td>45.410000</td>\n",
              "      <td>45.970001</td>\n",
              "      <td>46.360001</td>\n",
              "      <td>870300</td>\n",
              "      <td>46.360001</td>\n",
              "    </tr>\n",
              "    <tr>\n",
              "      <th>2021-05-04</th>\n",
              "      <td>46.500000</td>\n",
              "      <td>45.599998</td>\n",
              "      <td>46.500000</td>\n",
              "      <td>46.000000</td>\n",
              "      <td>772200</td>\n",
              "      <td>46.000000</td>\n",
              "    </tr>\n",
              "    <tr>\n",
              "      <th>2021-05-05</th>\n",
              "      <td>47.630001</td>\n",
              "      <td>46.095001</td>\n",
              "      <td>46.230000</td>\n",
              "      <td>46.740002</td>\n",
              "      <td>1923400</td>\n",
              "      <td>46.740002</td>\n",
              "    </tr>\n",
              "    <tr>\n",
              "      <th>2021-05-06</th>\n",
              "      <td>47.830002</td>\n",
              "      <td>46.689999</td>\n",
              "      <td>46.689999</td>\n",
              "      <td>47.509998</td>\n",
              "      <td>1222600</td>\n",
              "      <td>47.509998</td>\n",
              "    </tr>\n",
              "    <tr>\n",
              "      <th>2021-05-07</th>\n",
              "      <td>49.500000</td>\n",
              "      <td>47.160000</td>\n",
              "      <td>47.160000</td>\n",
              "      <td>49.169998</td>\n",
              "      <td>1809500</td>\n",
              "      <td>49.169998</td>\n",
              "    </tr>\n",
              "  </tbody>\n",
              "</table>\n",
              "<p>61 rows × 6 columns</p>\n",
              "</div>"
            ],
            "text/plain": [
              "                 High        Low       Open      Close   Volume  Adj Close\n",
              "Date                                                                      \n",
              "2021-02-10  50.000000  43.000000  43.000000  44.990002  1836900  44.990002\n",
              "2021-02-11  45.470001  42.750000  45.470001  42.799999  1652100  42.799999\n",
              "2021-02-12  43.500000  41.549999  43.009998  42.509998  2088200  42.509998\n",
              "2021-02-16  45.540001  43.009998  44.200001  43.549999  1369100  43.549999\n",
              "2021-02-17  44.599998  43.500000  44.029999  44.259998  1910200  44.259998\n",
              "...               ...        ...        ...        ...      ...        ...\n",
              "2021-05-03  46.619999  45.410000  45.970001  46.360001   870300  46.360001\n",
              "2021-05-04  46.500000  45.599998  46.500000  46.000000   772200  46.000000\n",
              "2021-05-05  47.630001  46.095001  46.230000  46.740002  1923400  46.740002\n",
              "2021-05-06  47.830002  46.689999  46.689999  47.509998  1222600  47.509998\n",
              "2021-05-07  49.500000  47.160000  47.160000  49.169998  1809500  49.169998\n",
              "\n",
              "[61 rows x 6 columns]"
            ]
          },
          "metadata": {
            "tags": []
          },
          "execution_count": 9
        }
      ]
    },
    {
      "cell_type": "code",
      "metadata": {
        "colab": {
          "base_uri": "https://localhost:8080/"
        },
        "id": "PmO-WB34Y_6y",
        "outputId": "2c84f86e-30c9-4a32-e00f-701c65385828"
      },
      "source": [
        "# Get the number of rows and columns\n",
        "\n",
        "df.shape"
      ],
      "execution_count": null,
      "outputs": [
        {
          "output_type": "execute_result",
          "data": {
            "text/plain": [
              "(61, 6)"
            ]
          },
          "metadata": {
            "tags": []
          },
          "execution_count": 11
        }
      ]
    },
    {
      "cell_type": "code",
      "metadata": {
        "colab": {
          "base_uri": "https://localhost:8080/",
          "height": 558
        },
        "id": "1lPhulcSbbvq",
        "outputId": "8186c00a-2891-4bfd-b4b7-b067ae80903a"
      },
      "source": [
        "# Visualize the closing the price\n",
        "\n",
        "plt.figure(figsize=(16,8))\n",
        "plt.title('Closing Price History')\n",
        "plt.plot(df['Close'])\n",
        "plt.xlabel('Date', fontsize=18)\n",
        "plt.ylabel('Close Price USD($)', fontsize=18)\n",
        "plt.show()"
      ],
      "execution_count": null,
      "outputs": [
        {
          "output_type": "display_data",
          "data": {
            "image/png": "[encoded data removed]",
            "text/plain": [
              "<Figure size 1152x576 with 1 Axes>"
            ]
          },
          "metadata": {
            "tags": []
          }
        }
      ]
    },
    {
      "cell_type": "code",
      "metadata": {
        "colab": {
          "base_uri": "https://localhost:8080/"
        },
        "id": "qQL1_kNQcX1t",
        "outputId": "fcce0f02-ae47-4952-f33d-7206cbae87e3"
      },
      "source": [
        "# Create a new dataframe with only Close variable\n",
        "\n",
        "data= df.filter(['Close'])\n",
        "\n",
        "# Convert the dataframe to numpy array\n",
        "\n",
        "dataset = data.values\n",
        "\n",
        "# Get the number of rows to train the model on\n",
        "\n",
        "training_data_len = math.ceil(len(dataset) * .8)\n",
        "\n",
        "training_data_len"
      ],
      "execution_count": null,
      "outputs": [
        {
          "output_type": "execute_result",
          "data": {
            "text/plain": [
              "49"
            ]
          },
          "metadata": {
            "tags": []
          },
          "execution_count": 14
        }
      ]
    },
    {
      "cell_type": "code",
      "metadata": {
        "colab": {
          "base_uri": "https://localhost:8080/"
        },
        "id": "hb7xu8YVc81e",
        "outputId": "48055eb1-1ef0-46f4-a6ab-cddfea473e59"
      },
      "source": [
        "# Scale the data \n",
        "\n",
        "scaler = MinMaxScaler(feature_range=(0,1))\n",
        "scaled_data = scaler.fit_transform(dataset)\n",
        "\n",
        "scaled_data"
      ],
      "execution_count": null,
      "outputs": [
        {
          "output_type": "execute_result",
          "data": {
            "text/plain": [
              "array([[0.44782078],\n",
              "       [0.15852058],\n",
              "       [0.12021135],\n",
              "       [0.25759588],\n",
              "       [0.35138705],\n",
              "       [0.18494076],\n",
              "       [0.31704117],\n",
              "       [0.29590512],\n",
              "       [0.27212701],\n",
              "       [0.44914157],\n",
              "       [0.41611647],\n",
              "       [0.34081928],\n",
              "       [0.40554819],\n",
              "       [0.48877159],\n",
              "       [0.74636747],\n",
              "       [0.60502008],\n",
              "       [0.45310442],\n",
              "       [0.36591817],\n",
              "       [0.35402912],\n",
              "       [0.41611647],\n",
              "       [0.49405572],\n",
              "       [0.54821687],\n",
              "       [0.54821687],\n",
              "       [0.42404267],\n",
              "       [0.48612952],\n",
              "       [0.25099096],\n",
              "       [0.22589207],\n",
              "       [0.15191566],\n",
              "       [0.01321034],\n",
              "       [0.        ],\n",
              "       [0.07397641],\n",
              "       [0.22853414],\n",
              "       [0.12153263],\n",
              "       [0.20343474],\n",
              "       [0.23645984],\n",
              "       [0.43989458],\n",
              "       [0.40422741],\n",
              "       [0.47688253],\n",
              "       [0.46235141],\n",
              "       [0.49273494],\n",
              "       [0.5204759 ],\n",
              "       [0.50858685],\n",
              "       [0.51651255],\n",
              "       [0.60634086],\n",
              "       [0.60634086],\n",
              "       [0.53500703],\n",
              "       [0.57727912],\n",
              "       [0.54293273],\n",
              "       [0.61294629],\n",
              "       [0.59181024],\n",
              "       [0.64200803],\n",
              "       [0.69749046],\n",
              "       [0.69616918],\n",
              "       [0.60502008],\n",
              "       [0.70673745],\n",
              "       [0.52443876],\n",
              "       [0.62879819],\n",
              "       [0.58124197],\n",
              "       [0.67899649],\n",
              "       [0.78071335],\n",
              "       [1.        ]])"
            ]
          },
          "metadata": {
            "tags": []
          },
          "execution_count": 17
        }
      ]
    },
    {
      "cell_type": "code",
      "metadata": {
        "colab": {
          "base_uri": "https://localhost:8080/"
        },
        "id": "6-dFK9tLdklP",
        "outputId": "88dc20c8-01f6-45ff-ba27-f33fc3f7a008"
      },
      "source": [
        "# Create the training dataset\n",
        "# Create train scaled data \n",
        "train_data = scaled_data[0:training_data_len, :]\n",
        "#Split data into x_train and y_train datasets\n",
        "\n",
        "x_train =[]\n",
        "y_train =[]\n",
        "\n",
        "for i in range (30, len(train_data)):\n",
        "  x_train.append(train_data[i-30:i, 0])\n",
        "  y_train.append(train_data[i,0])\n",
        "  if i<= 31:\n",
        "    print(x_train)\n",
        "    print(y_train)\n",
        "    print()\n",
        "\n"
      ],
      "execution_count": null,
      "outputs": [
        {
          "output_type": "stream",
          "text": [
            "[array([0.44782078, 0.15852058, 0.12021135, 0.25759588, 0.35138705,\n",
            "       0.18494076, 0.31704117, 0.29590512, 0.27212701, 0.44914157,\n",
            "       0.41611647, 0.34081928, 0.40554819, 0.48877159, 0.74636747,\n",
            "       0.60502008, 0.45310442, 0.36591817, 0.35402912, 0.41611647,\n",
            "       0.49405572, 0.54821687, 0.54821687, 0.42404267, 0.48612952,\n",
            "       0.25099096, 0.22589207, 0.15191566, 0.01321034, 0.        ])]\n",
            "[0.07397640632322666]\n",
            "\n",
            "[array([0.44782078, 0.15852058, 0.12021135, 0.25759588, 0.35138705,\n",
            "       0.18494076, 0.31704117, 0.29590512, 0.27212701, 0.44914157,\n",
            "       0.41611647, 0.34081928, 0.40554819, 0.48877159, 0.74636747,\n",
            "       0.60502008, 0.45310442, 0.36591817, 0.35402912, 0.41611647,\n",
            "       0.49405572, 0.54821687, 0.54821687, 0.42404267, 0.48612952,\n",
            "       0.25099096, 0.22589207, 0.15191566, 0.01321034, 0.        ]), array([0.15852058, 0.12021135, 0.25759588, 0.35138705, 0.18494076,\n",
            "       0.31704117, 0.29590512, 0.27212701, 0.44914157, 0.41611647,\n",
            "       0.34081928, 0.40554819, 0.48877159, 0.74636747, 0.60502008,\n",
            "       0.45310442, 0.36591817, 0.35402912, 0.41611647, 0.49405572,\n",
            "       0.54821687, 0.54821687, 0.42404267, 0.48612952, 0.25099096,\n",
            "       0.22589207, 0.15191566, 0.01321034, 0.        , 0.07397641])]\n",
            "[0.07397640632322666, 0.22853413826640434]\n",
            "\n"
          ],
          "name": "stdout"
        }
      ]
    },
    {
      "cell_type": "code",
      "metadata": {
        "id": "RZGSByAMe2ND"
      },
      "source": [
        "#Convert x_train and y_train dataset to numpy arrays\n",
        "\n",
        "x_train, y_train = np.array(x_train), np.array(y_train)"
      ],
      "execution_count": null,
      "outputs": []
    },
    {
      "cell_type": "code",
      "metadata": {
        "colab": {
          "base_uri": "https://localhost:8080/"
        },
        "id": "f0xcciXThStb",
        "outputId": "5d5aead7-8358-4b41-f762-7abf45119de9"
      },
      "source": [
        "# Reshape the data\n",
        "x_train = np.reshape(x_train,(x_train.shape[0],x_train.shape[1], 1))\n",
        "x_train.shape"
      ],
      "execution_count": null,
      "outputs": [
        {
          "output_type": "execute_result",
          "data": {
            "text/plain": [
              "(19, 30, 1)"
            ]
          },
          "metadata": {
            "tags": []
          },
          "execution_count": 27
        }
      ]
    },
    {
      "cell_type": "code",
      "metadata": {
        "id": "d-R1T1cgh9Fm"
      },
      "source": [
        "# Build the LSTM model\n",
        "\n",
        "model=Sequential()\n",
        "model.add(LSTM(50, return_sequences=True, input_shape = (x_train.shape[1],1)))\n",
        "model.add(LSTM(50, return_sequences=False))\n",
        "model.add(Dense(25))\n",
        "model.add(Dense(1))"
      ],
      "execution_count": null,
      "outputs": []
    },
    {
      "cell_type": "code",
      "metadata": {
        "id": "xwbLDlE6ij9m"
      },
      "source": [
        "# Compile the model\n",
        "\n",
        "model.compile(optimizer='adam', loss='mean_squared_error')"
      ],
      "execution_count": null,
      "outputs": []
    },
    {
      "cell_type": "code",
      "metadata": {
        "colab": {
          "base_uri": "https://localhost:8080/"
        },
        "id": "xEgt2TE9ivwp",
        "outputId": "133ab3e8-5ab1-4bcb-89f7-33bb8343b93b"
      },
      "source": [
        "# Train the model\n",
        "\n",
        "model.fit(x_train, y_train, batch_size=1, epochs=1)"
      ],
      "execution_count": null,
      "outputs": [
        {
          "output_type": "stream",
          "text": [
            "19/19 [==============================] - 3s 14ms/step - loss: 0.1420\n"
          ],
          "name": "stdout"
        },
        {
          "output_type": "execute_result",
          "data": {
            "text/plain": [
              "<tensorflow.python.keras.callbacks.History at 0x7f205fd1b410>"
            ]
          },
          "metadata": {
            "tags": []
          },
          "execution_count": 31
        }
      ]
    },
    {
      "cell_type": "code",
      "metadata": {
        "id": "lE49QDvhjD9F"
      },
      "source": [
        "# Create the testing dataset\n",
        "# Create a new array for test\n",
        "\n",
        "test_data = scaled_data[training_data_len-30:df.shape[0], :]\n",
        "# Create x_test and y_test\n",
        "x_test = []\n",
        "y_test = dataset[training_data_len:, :]\n",
        "\n",
        "for i in range (30, len(test_data)):\n",
        "  x_test.append(test_data[i-30:i, :])"
      ],
      "execution_count": null,
      "outputs": []
    },
    {
      "cell_type": "code",
      "metadata": {
        "id": "7ip6Glx7kSBu"
      },
      "source": [
        "# Convert the data to a numpy array\n",
        "\n",
        "x_test=np.array(x_test)"
      ],
      "execution_count": null,
      "outputs": []
    },
    {
      "cell_type": "code",
      "metadata": {
        "colab": {
          "base_uri": "https://localhost:8080/"
        },
        "id": "iiSDX3G1kbgU",
        "outputId": "37c9bd80-ba03-4db2-8d3b-b17f1f786bff"
      },
      "source": [
        "# Reshape the data \n",
        "\n",
        "x_test=np.reshape(x_test,(x_test.shape[0],x_test.shape[1],1))\n",
        "x_test.shape"
      ],
      "execution_count": null,
      "outputs": [
        {
          "output_type": "execute_result",
          "data": {
            "text/plain": [
              "(12, 30, 1)"
            ]
          },
          "metadata": {
            "tags": []
          },
          "execution_count": 34
        }
      ]
    },
    {
      "cell_type": "code",
      "metadata": {
        "id": "paRnR45RkxJ6"
      },
      "source": [
        "# Get the models predicted price values\n",
        "\n",
        "predictions = model.predict(x_test)\n",
        "predictions = scaler.inverse_transform(predictions)"
      ],
      "execution_count": null,
      "outputs": []
    },
    {
      "cell_type": "code",
      "metadata": {
        "colab": {
          "base_uri": "https://localhost:8080/"
        },
        "id": "3mZ0l1WZlNVE",
        "outputId": "c98d0b59-4867-4ae8-e968-fe557beae382"
      },
      "source": [
        "# Evaluate the model using the root mean squared error (RMSE)\n",
        "\n",
        "rmse = np.sqrt(np.mean(predictions - y_test)**2)\n",
        "rmse"
      ],
      "execution_count": null,
      "outputs": [
        {
          "output_type": "execute_result",
          "data": {
            "text/plain": [
              "1.2330970764160156"
            ]
          },
          "metadata": {
            "tags": []
          },
          "execution_count": 36
        }
      ]
    },
    {
      "cell_type": "code",
      "metadata": {
        "colab": {
          "base_uri": "https://localhost:8080/",
          "height": 659
        },
        "id": "XxwUta_jlzkI",
        "outputId": "6ab0ec77-74dc-41e7-d3fc-caaef10b9017"
      },
      "source": [
        "#Plot the data\n",
        "\n",
        "train = data[:training_data_len]\n",
        "valid = data[training_data_len:]\n",
        "valid['Predictions'] = predictions\n",
        "\n",
        "# Visualize the model\n",
        "\n",
        "plt.figure(figsize=(16,8))\n",
        "plt.title('Model')\n",
        "plt.xlabel('Date', fontsize=18)\n",
        "plt.ylabel('Close Price USD($)', fontsize=18)\n",
        "plt.plot(train['Close'])\n",
        "plt.plot(valid[['Close', 'Predictions']])\n",
        "plt.legend(['Train', 'Valid', 'Predictions'], loc='lower right')\n",
        "plt.show()"
      ],
      "execution_count": null,
      "outputs": [
        {
          "output_type": "stream",
          "text": [
            "/usr/local/lib/python3.7/dist-packages/ipykernel_launcher.py:5: SettingWithCopyWarning: \n",
            "A value is trying to be set on a copy of a slice from a DataFrame.\n",
            "Try using .loc[row_indexer,col_indexer] = value instead\n",
            "\n",
            "See the caveats in the documentation: https://pandas.pydata.org/pandas-docs/stable/user_guide/indexing.html#returning-a-view-versus-a-copy\n",
            "  \"\"\"\n"
          ],
          "name": "stderr"
        },
        {
          "output_type": "display_data",
          "data": {
            "image/png": "[encoded data removed]",
            "text/plain": [
              "<Figure size 1152x576 with 1 Axes>"
            ]
          },
          "metadata": {
            "tags": []
          }
        }
      ]
    },
    {
      "cell_type": "code",
      "metadata": {
        "colab": {
          "base_uri": "https://localhost:8080/",
          "height": 432
        },
        "id": "4ErdlNhYnOpM",
        "outputId": "0885ed19-eee2-4f7e-ab57-7e16177bfbe9"
      },
      "source": [
        "# Show the valid and predicted prices\n",
        "valid"
      ],
      "execution_count": null,
      "outputs": [
        {
          "output_type": "execute_result",
          "data": {
            "text/html": [
              "<div>\n",
              "<style scoped>\n",
              "    .dataframe tbody tr th:only-of-type {\n",
              "        vertical-align: middle;\n",
              "    }\n",
              "\n",
              "    .dataframe tbody tr th {\n",
              "        vertical-align: top;\n",
              "    }\n",
              "\n",
              "    .dataframe thead th {\n",
              "        text-align: right;\n",
              "    }\n",
              "</style>\n",
              "<table border=\"1\" class=\"dataframe\">\n",
              "  <thead>\n",
              "    <tr style=\"text-align: right;\">\n",
              "      <th></th>\n",
              "      <th>Close</th>\n",
              "      <th>Predictions</th>\n",
              "    </tr>\n",
              "    <tr>\n",
              "      <th>Date</th>\n",
              "      <th></th>\n",
              "      <th></th>\n",
              "    </tr>\n",
              "  </thead>\n",
              "  <tbody>\n",
              "    <tr>\n",
              "      <th>2021-04-22</th>\n",
              "      <td>46.080002</td>\n",
              "      <td>45.145840</td>\n",
              "    </tr>\n",
              "    <tr>\n",
              "      <th>2021-04-23</th>\n",
              "      <td>46.459999</td>\n",
              "      <td>45.217144</td>\n",
              "    </tr>\n",
              "    <tr>\n",
              "      <th>2021-04-26</th>\n",
              "      <td>46.880001</td>\n",
              "      <td>45.290443</td>\n",
              "    </tr>\n",
              "    <tr>\n",
              "      <th>2021-04-27</th>\n",
              "      <td>46.869999</td>\n",
              "      <td>45.374493</td>\n",
              "    </tr>\n",
              "    <tr>\n",
              "      <th>2021-04-28</th>\n",
              "      <td>46.180000</td>\n",
              "      <td>45.462242</td>\n",
              "    </tr>\n",
              "    <tr>\n",
              "      <th>2021-04-29</th>\n",
              "      <td>46.950001</td>\n",
              "      <td>45.528629</td>\n",
              "    </tr>\n",
              "    <tr>\n",
              "      <th>2021-04-30</th>\n",
              "      <td>45.570000</td>\n",
              "      <td>45.598145</td>\n",
              "    </tr>\n",
              "    <tr>\n",
              "      <th>2021-05-03</th>\n",
              "      <td>46.360001</td>\n",
              "      <td>45.628811</td>\n",
              "    </tr>\n",
              "    <tr>\n",
              "      <th>2021-05-04</th>\n",
              "      <td>46.000000</td>\n",
              "      <td>45.652348</td>\n",
              "    </tr>\n",
              "    <tr>\n",
              "      <th>2021-05-05</th>\n",
              "      <td>46.740002</td>\n",
              "      <td>45.661434</td>\n",
              "    </tr>\n",
              "    <tr>\n",
              "      <th>2021-05-06</th>\n",
              "      <td>47.509998</td>\n",
              "      <td>45.681694</td>\n",
              "    </tr>\n",
              "    <tr>\n",
              "      <th>2021-05-07</th>\n",
              "      <td>49.169998</td>\n",
              "      <td>45.731613</td>\n",
              "    </tr>\n",
              "  </tbody>\n",
              "</table>\n",
              "</div>"
            ],
            "text/plain": [
              "                Close  Predictions\n",
              "Date                              \n",
              "2021-04-22  46.080002    45.145840\n",
              "2021-04-23  46.459999    45.217144\n",
              "2021-04-26  46.880001    45.290443\n",
              "2021-04-27  46.869999    45.374493\n",
              "2021-04-28  46.180000    45.462242\n",
              "2021-04-29  46.950001    45.528629\n",
              "2021-04-30  45.570000    45.598145\n",
              "2021-05-03  46.360001    45.628811\n",
              "2021-05-04  46.000000    45.652348\n",
              "2021-05-05  46.740002    45.661434\n",
              "2021-05-06  47.509998    45.681694\n",
              "2021-05-07  49.169998    45.731613"
            ]
          },
          "metadata": {
            "tags": []
          },
          "execution_count": 38
        }
      ]
    },
    {
      "cell_type": "code",
      "metadata": {
        "colab": {
          "base_uri": "https://localhost:8080/"
        },
        "id": "Q76zPtwYney-",
        "outputId": "0857f040-fd35-4390-ffd4-21755d104cfa"
      },
      "source": [
        "# Get the quote \n",
        "\n",
        "chk_quote = web.DataReader('CHK', data_source='yahoo', start='2021-02-01', end='2021-05-08')\n",
        "\n",
        "# Create a new dataframe\n",
        "\n",
        "new_df = chk_quote.filter(['Close'])\n",
        "\n",
        "# Get the last 30 days pricing values and convert to a numpy array\n",
        "\n",
        "last_30_days = new_df[-30:].values\n",
        "\n",
        "# Scale the data between 0 and 1\n",
        "\n",
        "last_30_days_scaled = scaler.transform(last_30_days)\n",
        "\n",
        "# Create an empty list\n",
        "\n",
        "X_test = []\n",
        "\n",
        "# Append the past the 30 days\n",
        "\n",
        "X_test.append(last_30_days_scaled)\n",
        "\n",
        "# Convert the X_test to numpy array\n",
        "\n",
        "X_test = np.array(X_test)\n",
        "\n",
        "# Reshape the data\n",
        "\n",
        "X_test = np.reshape(X_test,(X_test.shape[0],X_test.shape[1], 1))\n",
        "\n",
        "# Predict the price\n",
        "\n",
        "pred_price = model.predict(X_test)\n",
        "\n",
        "# Undo the scaling\n",
        "\n",
        "pred_price = scaler.inverse_transform(pred_price)\n",
        "\n",
        "# Print the predicting\n",
        "\n",
        "print (pred_price)"
      ],
      "execution_count": null,
      "outputs": [
        {
          "output_type": "stream",
          "text": [
            "[[45.846024]]\n"
          ],
          "name": "stdout"
        }
      ]
    }
  ]
}